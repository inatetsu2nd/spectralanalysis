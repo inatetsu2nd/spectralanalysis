{
 "cells": [
  {
   "cell_type": "markdown",
   "metadata": {},
   "source": [
    "## <span style=\"color: DeepPink; \">2.3 Pythonの基礎</span>"
   ]
  },
  {
   "cell_type": "code",
   "execution_count": 1,
   "metadata": {},
   "outputs": [
    {
     "data": {
      "text/plain": [
       "2.0"
      ]
     },
     "execution_count": 1,
     "metadata": {},
     "output_type": "execute_result"
    }
   ],
   "source": [
    "4/2"
   ]
  },
  {
   "cell_type": "code",
   "execution_count": 2,
   "metadata": {
    "scrolled": false
   },
   "outputs": [
    {
     "name": "stdout",
     "output_type": "stream",
     "text": [
      "1.5\n",
      "1\n",
      "2\n",
      "256\n"
     ]
    }
   ],
   "source": [
    "print(3/2) # 割り算\n",
    "print(3//2) # 切り捨て除算\n",
    "print(11%3) # 剰余\n",
    "print(2**8) # べき乗"
   ]
  },
  {
   "cell_type": "markdown",
   "metadata": {},
   "source": [
    "## <span style=\"color: DeepPink; \">2.3.1 ショートカット,マークダウン</span>"
   ]
  },
  {
   "cell_type": "markdown",
   "metadata": {},
   "source": [
    "### Jupyter Notebook ショートカットまとめ\n",
    "#### Jupyter Notebook ショートカットまとめ\n",
    "-  <kbd>H</kbd>: ヘルプを表示\n",
    "-  <kbd>M</kbd>: Markdownセルに変更\n",
    "- <kbd>Ctrl</kbd>+<kbd>Enter</kbd>: セルの内容を実行\n",
    "- <kbd>Shift</kbd>+<kbd>Enter</kbd>: セルの内容を実行して下へ\n",
    "- <kbd>Ctrl</kbd>+<kbd>/</kbd>: コメントアウト\n",
    "- <kbd>Y</kbd>: Codeセルに変更\n",
    "-  <kbd>A</kbd>: ひとつ上に空のセルを挿入\n",
    "-  <kbd>B</kbd>: ひとつ下に空のセルを挿入\n",
    "- <kbd>D</kbd><kbd>D</kbd>: セルの削除"
   ]
  },
  {
   "cell_type": "markdown",
   "metadata": {},
   "source": [
    "#### Markdownの書式については下記URLを参照してください\n",
    "[Markdown書式チート](https://qiita.com/kamorits/items/6f342da395ad57468ae3)"
   ]
  },
  {
   "cell_type": "markdown",
   "metadata": {},
   "source": [
    "## <span style=\"color: DeepPink; \">2.3.2 変数の取り扱い</span>"
   ]
  },
  {
   "cell_type": "code",
   "execution_count": 3,
   "metadata": {
    "scrolled": true
   },
   "outputs": [
    {
     "name": "stdout",
     "output_type": "stream",
     "text": [
      "円の面積は 314.0 です\n"
     ]
    }
   ],
   "source": [
    "# 変数の取り扱い\n",
    "a=10\n",
    "b=5\n",
    "S=a**2*3.14\n",
    "print('円の面積は',S,'です')"
   ]
  },
  {
   "cell_type": "markdown",
   "metadata": {},
   "source": [
    "## <span style=\"color: DeepPink; \">2.3.3 リスト</span>"
   ]
  },
  {
   "cell_type": "code",
   "execution_count": 5,
   "metadata": {},
   "outputs": [
    {
     "name": "stdout",
     "output_type": "stream",
     "text": [
      "[1, 2, 3, 4, 5]\n"
     ]
    }
   ],
   "source": [
    "number=[1,2,3,4,5] # リスト\n",
    "print(number)"
   ]
  },
  {
   "cell_type": "code",
   "execution_count": 8,
   "metadata": {},
   "outputs": [
    {
     "name": "stdout",
     "output_type": "stream",
     "text": [
      "文字です\n",
      "変数のデータ型は <class 'str'> です\n"
     ]
    }
   ],
   "source": [
    "# 整数 = int型\n",
    "# 浮動小数点数 = float型\n",
    "# 文字列 = str型\n",
    "# 論理値（True[1], False[0]）= bool型\n",
    "\n",
    "A=\"文字です\"\n",
    "print(A)\n",
    "print(\"変数のデータ型は\",type(A),\"です\")"
   ]
  },
  {
   "cell_type": "code",
   "execution_count": 10,
   "metadata": {},
   "outputs": [
    {
     "name": "stdout",
     "output_type": "stream",
     "text": [
      "リストの中身は ['身長', 175, '体重', 60]\n",
      "リストの長さは 4\n",
      "リストの最初の要素は 身長\n",
      "リストの最初の要素は 体重\n",
      "リストの中身は ['身長', 175, '体重', 45]\n"
     ]
    }
   ],
   "source": [
    "data=['身長',175,'体重',60] \n",
    "print('リストの中身は', data) # ①\n",
    "print('リストの長さは',len(data)) # ②\n",
    "print('リストの最初の要素は',data[0]) # ③リストの最初の要素　pythonでは0から指定する\n",
    "print('リストの最初の要素は',data[2]) # ④\n",
    "data[3]=45 # ⑤\n",
    "print('リストの中身は',data) # ⑥"
   ]
  },
  {
   "cell_type": "markdown",
   "metadata": {},
   "source": [
    "## <span style=\"color: DeepPink; \">2.3.4 bool型</span>"
   ]
  },
  {
   "cell_type": "code",
   "execution_count": 12,
   "metadata": {},
   "outputs": [
    {
     "name": "stdout",
     "output_type": "stream",
     "text": [
      "Bool_integerの値は 100\n",
      "bool_integerは50以上ですか？→ True\n",
      "bool_integerは200以上ですか？→ False\n"
     ]
    }
   ],
   "source": [
    "# bool型（True or False）\n",
    "bool_integer=100\n",
    "bool_50=bool_integer>=50\n",
    "bool_200=bool_integer>=200\n",
    "print('Bool_integerの値は',bool_integer)\n",
    "print('bool_integerは50以上ですか？→',bool_50)\n",
    "print('bool_integerは200以上ですか？→',bool_200)"
   ]
  },
  {
   "cell_type": "code",
   "execution_count": 13,
   "metadata": {},
   "outputs": [
    {
     "name": "stdout",
     "output_type": "stream",
     "text": [
      "True\n",
      "False\n",
      "True\n",
      "False\n",
      "True\n",
      "True\n"
     ]
    }
   ],
   "source": [
    "a=100\n",
    "print(a==100) #等しい\n",
    "print(a != 100) #等しくない\n",
    "print(a>80) #大なり\n",
    "print(a<80) #小なり　　\n",
    "print(a >= 100) # 以上\n",
    "print(a <= 100) # 以下"
   ]
  }
 ],
 "metadata": {
  "kernelspec": {
   "display_name": "Python 3 (ipykernel)",
   "language": "python",
   "name": "python3"
  },
  "language_info": {
   "codemirror_mode": {
    "name": "ipython",
    "version": 3
   },
   "file_extension": ".py",
   "mimetype": "text/x-python",
   "name": "python",
   "nbconvert_exporter": "python",
   "pygments_lexer": "ipython3",
   "version": "3.11.7"
  }
 },
 "nbformat": 4,
 "nbformat_minor": 2
}
