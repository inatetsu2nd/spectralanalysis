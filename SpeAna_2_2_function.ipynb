{
 "cells": [
  {
   "cell_type": "markdown",
   "metadata": {},
   "source": [
    "## <span style=\"color: DeepPink; \">2.3.5 if文</span>"
   ]
  },
  {
   "cell_type": "markdown",
   "metadata": {},
   "source": [
    "if (条件):<BR>\n",
    "<font color=\"Red\">インデント→</font>実行文<BR>\n",
    "elif(条件):<BR>\n",
    "   <font color=\"Red\">インデント→</font> 実行文<BR>\n",
    "else:<BR>\n",
    "    <font color=\"Red\">インデント→</font>実行文<BR>"
   ]
  },
  {
   "cell_type": "code",
   "execution_count": 14,
   "metadata": {},
   "outputs": [
    {
     "name": "stdout",
     "output_type": "stream",
     "text": [
      "お祭りで何か買えます\n",
      "りんご飴が買えます\n"
     ]
    }
   ],
   "source": [
    "Ymoney=300\n",
    "# Ymoney=450\n",
    "# Ymoney=100\n",
    "if(Ymoney>=200):\n",
    "    print('お祭りで何か買えます')\n",
    "if(Ymoney>=500):\n",
    "    print('焼きそばが買えます')\n",
    "elif(200<=Ymoney<500):\n",
    "        print('りんご飴が買えます')\n",
    "else:\n",
    "    print('何も買えません')"
   ]
  },
  {
   "cell_type": "markdown",
   "metadata": {},
   "source": [
    "## <span style=\"color: DeepPink; \">2.3.6 for文</span>"
   ]
  },
  {
   "cell_type": "markdown",
   "metadata": {},
   "source": [
    "for 変数 in オブジェクト<BR>\n",
    "<font color=\"Red\">インデント→</font>実行文<BR>"
   ]
  },
  {
   "cell_type": "code",
   "execution_count": 2,
   "metadata": {
    "scrolled": false
   },
   "outputs": [
    {
     "name": "stdout",
     "output_type": "stream",
     "text": [
      "0\n",
      "1\n",
      "2\n"
     ]
    }
   ],
   "source": [
    "for i in [0,1,2]:\n",
    "    print(i)"
   ]
  },
  {
   "cell_type": "code",
   "execution_count": 3,
   "metadata": {},
   "outputs": [
    {
     "name": "stdout",
     "output_type": "stream",
     "text": [
      "range(0, 5)\n",
      "0\n",
      "1\n",
      "2\n",
      "3\n",
      "4\n"
     ]
    }
   ],
   "source": [
    "A = range(5)\n",
    "print(A)\n",
    "for i in range(5):\n",
    "    print(i)"
   ]
  },
  {
   "cell_type": "code",
   "execution_count": 5,
   "metadata": {
    "scrolled": true
   },
   "outputs": [
    {
     "name": "stdout",
     "output_type": "stream",
     "text": [
      "python\n",
      "による\n",
      "スペクトル解析\n"
     ]
    }
   ],
   "source": [
    "words=[\"python\",\"による\",\"スペクトル解析\"]\n",
    "for w in words:\n",
    "    print(w)"
   ]
  },
  {
   "cell_type": "markdown",
   "metadata": {},
   "source": [
    "## <span style=\"color: DeepPink; \">2.3.7 関数の定義</span>"
   ]
  },
  {
   "cell_type": "markdown",
   "metadata": {},
   "source": [
    "def 関数名(引数):<BR>\n",
    "   <font color=\"Red\">インデント→</font> 実行文"
   ]
  },
  {
   "cell_type": "code",
   "execution_count": 7,
   "metadata": {},
   "outputs": [
    {
     "name": "stdout",
     "output_type": "stream",
     "text": [
      "hello to chemometorics\n",
      "for the spectral analysis\n"
     ]
    }
   ],
   "source": [
    "def hello():\n",
    "    print('hello to chemometorics')\n",
    "    print('for the spectral analysis')\n",
    "hello()"
   ]
  },
  {
   "cell_type": "code",
   "execution_count": 8,
   "metadata": {},
   "outputs": [
    {
     "name": "stdout",
     "output_type": "stream",
     "text": [
      "sakaiさん、ケモメトリクス解析へようこそ\n",
      "katoさん、スペクトルが自由に解析できますよ\n"
     ]
    }
   ],
   "source": [
    "def show_hello_to(name1,name2):\n",
    "    print(name1+'さん、ケモメトリクス解析へようこそ')\n",
    "    print(name2+'さん、スペクトルが自由に解析できますよ')\n",
    "show_hello_to('sakai','kato')\n",
    "# name1,name2 引数と呼びます"
   ]
  },
  {
   "cell_type": "code",
   "execution_count": 9,
   "metadata": {},
   "outputs": [
    {
     "name": "stdout",
     "output_type": "stream",
     "text": [
      "30 40 50\n"
     ]
    }
   ],
   "source": [
    "def simple_tasizan(a,b,c):\n",
    "    p1=a+b\n",
    "    p2=a+c\n",
    "    p3=b+c\n",
    "    return p1,p2,p3\n",
    "\n",
    "d1,d2,d3=simple_tasizan(10,20,30)\n",
    "print(d1,d2,d3)\n",
    "# p1,p2,p3戻り値\n",
    "\n",
    "# 関数の作成\n",
    "# def 関数名(引数)\n",
    "#     実行文\n",
    "# 　　return 戻り値"
   ]
  }
 ],
 "metadata": {
  "kernelspec": {
   "display_name": "Python 3 (ipykernel)",
   "language": "python",
   "name": "python3"
  },
  "language_info": {
   "codemirror_mode": {
    "name": "ipython",
    "version": 3
   },
   "file_extension": ".py",
   "mimetype": "text/x-python",
   "name": "python",
   "nbconvert_exporter": "python",
   "pygments_lexer": "ipython3",
   "version": "3.11.7"
  }
 },
 "nbformat": 4,
 "nbformat_minor": 2
}
