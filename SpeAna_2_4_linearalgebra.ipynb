{
 "cells": [
  {
   "cell_type": "markdown",
   "id": "61f83bdd",
   "metadata": {},
   "source": [
    "## <span style=\"color: DeepPink; \">2.6.1 行列の和差積商</span>"
   ]
  },
  {
   "cell_type": "code",
   "execution_count": 1,
   "id": "b6c1b4cc",
   "metadata": {
    "scrolled": true
   },
   "outputs": [
    {
     "name": "stdout",
     "output_type": "stream",
     "text": [
      "行列Aは\n",
      " [[ 1  2  3]\n",
      " [ 4  2  3]\n",
      " [12  3  1]] \n",
      "\n",
      "行列Bは\n",
      " [[1 2 1]\n",
      " [2 3 1]\n",
      " [5 4 1]] \n",
      "\n",
      "Aの転置は\n",
      " [[ 1  4 12]\n",
      " [ 2  2  3]\n",
      " [ 3  3  1]] \n",
      "および\n",
      " [[ 1  4 12]\n",
      " [ 2  2  3]\n",
      " [ 3  3  1]] \n",
      "\n",
      "A+Bは\n",
      " [[ 2  4  4]\n",
      " [ 6  5  4]\n",
      " [17  7  2]] \n",
      "\n",
      "A・Bは\n",
      " [[20 20  6]\n",
      " [23 26  9]\n",
      " [23 37 16]] \n",
      "\n",
      "単位行列は\n",
      " [[1. 0. 0.]\n",
      " [0. 1. 0.]\n",
      " [0. 0. 1.]] \n",
      "\n",
      "Aの逆行列は\n",
      " [[-3.33333333e-01  3.33333333e-01  3.70074342e-17]\n",
      " [ 1.52380952e+00 -1.66666667e+00  4.28571429e-01]\n",
      " [-5.71428571e-01  1.00000000e+00 -2.85714286e-01]] \n",
      "\n",
      "A・inv(A)は\n",
      " [[ 1.  0. -0.]\n",
      " [ 0.  1. -0.]\n",
      " [ 0. -0.  1.]] \n",
      "\n"
     ]
    }
   ],
   "source": [
    "import numpy as np\n",
    "\n",
    "# ①3行3列の行列AとB \n",
    "A = np.array([[1, 2, 3], [4, 2, 3], [12, 3, 1]])\n",
    "B = np.array([[1, 2, 1], [2, 3, 1], [5, 4, 1]])\n",
    "print(\"行列Aは\\n\",A,'\\n')\n",
    "print(\"行列Bは\\n\",B,'\\n')\n",
    "\n",
    "# ②行列の転置\n",
    "transA1=A.T\n",
    "transA2=np.transpose(A)\n",
    "print(\"Aの転置は\\n\",transA1,'\\nおよび\\n', transA2,\"\\n\")\n",
    "\n",
    "# ③行列の加算\n",
    "sum_of_matrices = A + B\n",
    "print(\"A+Bは\\n\",sum_of_matrices,'\\n')\n",
    "\n",
    "#④行列の積\n",
    "product_of_matrices = np.dot(A, B)\n",
    "print(\"A・Bは\\n\",product_of_matrices,'\\n')\n",
    "\n",
    "#⑤単位行列I\n",
    "identity_matrix = np.eye(3)\n",
    "print(\"単位行列は\\n\",identity_matrix ,'\\n')\n",
    "\n",
    "#⑥行列Aの逆行列\n",
    "inverse_of_A = np.linalg.inv(A)\n",
    "print(\"Aの逆行列は\\n\",inverse_of_A  ,'\\n')\n",
    "\n",
    "# ⑦行列Aとその逆行列の積\n",
    "product_of_A_and_inverse = np.dot(A, inverse_of_A)\n",
    "print(\"A・inv(A)は\\n\",np.around(product_of_A_and_inverse, decimals=0) ,'\\n')"
   ]
  },
  {
   "cell_type": "markdown",
   "id": "eabedc1b",
   "metadata": {},
   "source": [
    "## <span style=\"color: DeepPink; \">2.6.2 行列で連立方程式を解く</span>"
   ]
  },
  {
   "cell_type": "code",
   "execution_count": 2,
   "id": "97b6875f",
   "metadata": {
    "scrolled": true
   },
   "outputs": [
    {
     "name": "stdout",
     "output_type": "stream",
     "text": [
      "解は\n",
      " [[ 2.14285714]\n",
      " [-3.71428571]\n",
      " [ 2.        ]] \n",
      "です\n"
     ]
    }
   ],
   "source": [
    "import numpy as np\n",
    "A = np.array([[3, 2, 1], [4, 5, 6], [3, 2, 2]])\n",
    "B =np.array([[1], [2], [3]])\n",
    "inverse_of_A = np.linalg.inv(A)\n",
    "print(\"解は\\n\",np.dot(inverse_of_A,B),\"\\nです\")"
   ]
  },
  {
   "cell_type": "markdown",
   "id": "27358d54",
   "metadata": {},
   "source": [
    "### <span style=\"color: blue; \">逆行列</span>"
   ]
  },
  {
   "cell_type": "code",
   "execution_count": 3,
   "id": "00501fb9",
   "metadata": {
    "scrolled": true
   },
   "outputs": [
    {
     "name": "stdout",
     "output_type": "stream",
     "text": [
      "rank： 2\n"
     ]
    },
    {
     "ename": "LinAlgError",
     "evalue": "Singular matrix",
     "output_type": "error",
     "traceback": [
      "\u001b[1;31m---------------------------------------------------------------------------\u001b[0m",
      "\u001b[1;31mLinAlgError\u001b[0m                               Traceback (most recent call last)",
      "Cell \u001b[1;32mIn[3], line 5\u001b[0m\n\u001b[0;32m      3\u001b[0m B \u001b[38;5;241m=\u001b[39mnp\u001b[38;5;241m.\u001b[39marray([[\u001b[38;5;241m1\u001b[39m], [\u001b[38;5;241m2\u001b[39m], [\u001b[38;5;241m3\u001b[39m]])\n\u001b[0;32m      4\u001b[0m \u001b[38;5;28mprint\u001b[39m(\u001b[38;5;124m\"\u001b[39m\u001b[38;5;124mrank：\u001b[39m\u001b[38;5;124m\"\u001b[39m,np\u001b[38;5;241m.\u001b[39mlinalg\u001b[38;5;241m.\u001b[39mmatrix_rank(A))\n\u001b[1;32m----> 5\u001b[0m inverse_of_A \u001b[38;5;241m=\u001b[39m np\u001b[38;5;241m.\u001b[39mlinalg\u001b[38;5;241m.\u001b[39minv(A)\n",
      "File \u001b[1;32m~\\anaconda3\\Lib\\site-packages\\numpy\\linalg\\linalg.py:561\u001b[0m, in \u001b[0;36minv\u001b[1;34m(a)\u001b[0m\n\u001b[0;32m    559\u001b[0m signature \u001b[38;5;241m=\u001b[39m \u001b[38;5;124m'\u001b[39m\u001b[38;5;124mD->D\u001b[39m\u001b[38;5;124m'\u001b[39m \u001b[38;5;28;01mif\u001b[39;00m isComplexType(t) \u001b[38;5;28;01melse\u001b[39;00m \u001b[38;5;124m'\u001b[39m\u001b[38;5;124md->d\u001b[39m\u001b[38;5;124m'\u001b[39m\n\u001b[0;32m    560\u001b[0m extobj \u001b[38;5;241m=\u001b[39m get_linalg_error_extobj(_raise_linalgerror_singular)\n\u001b[1;32m--> 561\u001b[0m ainv \u001b[38;5;241m=\u001b[39m _umath_linalg\u001b[38;5;241m.\u001b[39minv(a, signature\u001b[38;5;241m=\u001b[39msignature, extobj\u001b[38;5;241m=\u001b[39mextobj)\n\u001b[0;32m    562\u001b[0m \u001b[38;5;28;01mreturn\u001b[39;00m wrap(ainv\u001b[38;5;241m.\u001b[39mastype(result_t, copy\u001b[38;5;241m=\u001b[39m\u001b[38;5;28;01mFalse\u001b[39;00m))\n",
      "File \u001b[1;32m~\\anaconda3\\Lib\\site-packages\\numpy\\linalg\\linalg.py:112\u001b[0m, in \u001b[0;36m_raise_linalgerror_singular\u001b[1;34m(err, flag)\u001b[0m\n\u001b[0;32m    111\u001b[0m \u001b[38;5;28;01mdef\u001b[39;00m \u001b[38;5;21m_raise_linalgerror_singular\u001b[39m(err, flag):\n\u001b[1;32m--> 112\u001b[0m     \u001b[38;5;28;01mraise\u001b[39;00m LinAlgError(\u001b[38;5;124m\"\u001b[39m\u001b[38;5;124mSingular matrix\u001b[39m\u001b[38;5;124m\"\u001b[39m)\n",
      "\u001b[1;31mLinAlgError\u001b[0m: Singular matrix"
     ]
    }
   ],
   "source": [
    "import numpy as np\n",
    "A = np.array([[1, 1, 1], [2, 2, 2], [3, 2, 2]])\n",
    "B =np.array([[1], [2], [3]])\n",
    "print(\"rank：\",np.linalg.matrix_rank(A))\n",
    "inverse_of_A = np.linalg.inv(A)"
   ]
  },
  {
   "cell_type": "markdown",
   "id": "2e4a6859",
   "metadata": {},
   "source": [
    "### <span style=\"color: blue; \">最小二乗法</span>"
   ]
  },
  {
   "cell_type": "code",
   "execution_count": 6,
   "id": "32223943",
   "metadata": {},
   "outputs": [
    {
     "name": "stdout",
     "output_type": "stream",
     "text": [
      "回帰線傾き：①0.21, ②0.21, ③0.21\n",
      "回帰線切片：①-0.03, ②-0.03, ③-0.03\n"
     ]
    },
    {
     "data": {
      "image/png": "[encoded data removed]",
      "text/plain": [
       "<Figure size 640x480 with 1 Axes>"
      ]
     },
     "metadata": {},
     "output_type": "display_data"
    }
   ],
   "source": [
    "import numpy as np\n",
    "import matplotlib.pyplot as plt\n",
    "from sklearn.linear_model import LinearRegression\n",
    "\n",
    "# データの設定\n",
    "X = np.array([5, 6, 7, 8, 9]).reshape(-1, 1)  # 糖度\n",
    "y = np.array([1.2, 1, 1.5, 1.5, 2]).reshape(-1, 1)  # 酸度\n",
    "\n",
    "# ①-1. 関数を用いる方法（scikit-learnのLinearRegression）\n",
    "model = LinearRegression()\n",
    "model.fit(X, y)\n",
    "intercept_sklearn = model.intercept_\n",
    "slope_sklearn = model.coef_[0]\n",
    "\n",
    "# ①-2. 偏微分方程式から導出される定義式から計算する方法\n",
    "X_mean = np.mean(X)\n",
    "y_mean = np.mean(y)\n",
    "slope_manual = np.sum((X - X_mean) * (y - y_mean)) / np.sum((X - X_mean)**2)\n",
    "intercept_manual = y_mean - slope_manual * X_mean\n",
    "\n",
    "# ①-3. 逆行列から計算する方法\n",
    "X_b = np.c_[X,np.ones((X.shape[0], 1))]  # Xにバイアス項を追加\n",
    "theta_best = np.linalg.inv(X_b.T.dot(X_b)).dot(X_b.T).dot(y)\n",
    "intercept_inverse = theta_best[1]\n",
    "slope_inverse = theta_best[0]\n",
    "\n",
    "# ②回帰線の表示\n",
    "print(f\"回帰線傾き：①{slope_sklearn[0]:.2f}, ②{slope_manual:.2f}, ③{slope_inverse[0]:.2f}\")\n",
    "print(f\"回帰線切片：①{intercept_sklearn[0]:.2f}, ②{intercept_manual:.2f}, ③{intercept_inverse[0]:.2f}\")\n",
    "\n",
    "\n",
    "# ③回帰線の計算\n",
    "X_new = np.array([[X.min()], [X.max()]])\n",
    "y_predict_sklearn = model.predict(X_new)\n",
    "y_predict_manual = intercept_manual + slope_manual * X_new\n",
    "y_predict_inverse = intercept_inverse + slope_inverse * X_new\n",
    "\n",
    "# ④散布図と回帰線、回帰線からの誤差を示す図を作成\n",
    "plt.scatter(X, y, color='black', label='Data')\n",
    "plt.plot(X_new, y_predict_sklearn, label='Regression line (scikit-learn)', linestyle='--')\n",
    "plt.plot(X_new, y_predict_manual, label='Regression line (manual)', linestyle='-.')\n",
    "plt.plot(X_new, y_predict_inverse, label='Regression line (inverse)', linestyle=':')\n",
    "\n",
    "# ⑤各データ点についての誤差をプロット\n",
    "for x, actual, predicted in zip(X, y, model.predict(X)):\n",
    "    plt.plot([x, x], [actual, predicted], color='red', linestyle='-', linewidth=1)\n",
    "\n",
    "plt.xlabel('Sugar(X)')\n",
    "plt.ylabel('Acid (y)')\n",
    "plt.title('Sugar  vs. acid and Regression Lines')\n",
    "plt.legend()\n",
    "plt.show()\n"
   ]
  }
 ],
 "metadata": {
  "kernelspec": {
   "display_name": "Python 3 (ipykernel)",
   "language": "python",
   "name": "python3"
  },
  "language_info": {
   "codemirror_mode": {
    "name": "ipython",
    "version": 3
   },
   "file_extension": ".py",
   "mimetype": "text/x-python",
   "name": "python",
   "nbconvert_exporter": "python",
   "pygments_lexer": "ipython3",
   "version": "3.11.7"
  }
 },
 "nbformat": 4,
 "nbformat_minor": 5
}
