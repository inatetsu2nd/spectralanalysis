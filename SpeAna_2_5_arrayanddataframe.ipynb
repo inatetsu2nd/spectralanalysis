{
 "cells": [
  {
   "cell_type": "markdown",
   "metadata": {},
   "source": [
    "## <span style=\"color: DeepPink; \">2.5.3 DataFrame(pandas)とndarray(NumPy)の関係</span>"
   ]
  },
  {
   "cell_type": "code",
   "execution_count": 1,
   "metadata": {},
   "outputs": [],
   "source": [
    "import pandas as pd\n",
    "import numpy as np\n",
    "import matplotlib.pyplot as plt\n",
    "excel_path='dataChapter2/2_pandas.xlsx'\n",
    "df_p1 = pd.read_excel(excel_path, sheet_name='p1',index_col=0)"
   ]
  },
  {
   "cell_type": "code",
   "execution_count": 2,
   "metadata": {},
   "outputs": [
    {
     "name": "stdout",
     "output_type": "stream",
     "text": [
      "行列数：\n",
      " (6, 2) \n",
      "\n",
      "サイズ：\n",
      " 12 \n",
      "\n",
      "インデックス：\n",
      " Index(['リンゴ1', 'リンゴ2', 'リンゴ3', 'リンゴ4', 'リンゴ5', 'リンゴ6'], dtype='object') \n",
      "\n",
      "カラム名：\n",
      " Index(['糖度', '酸度'], dtype='object') \n",
      "\n",
      "値：\n",
      " [[10.   0.5]\n",
      " [12.   0.6]\n",
      " [ 8.   1. ]\n",
      " [ 9.   0.8]\n",
      " [10.   0.7]\n",
      " [15.   1. ]] \n",
      "\n",
      "絶対座標指定：\n",
      " 0.5 \n",
      "\n",
      "絶対座標指定：\n",
      "       糖度\n",
      "リンゴ1  10\n",
      "リンゴ2  12\n",
      "リンゴ3   8 \n",
      "\n",
      "ラベル指定：\n",
      " リンゴ1    10\n",
      "リンゴ2    12\n",
      "リンゴ3     8\n",
      "リンゴ4     9\n",
      "リンゴ5    10\n",
      "リンゴ6    15\n",
      "Name: 糖度, dtype: int64 \n",
      "\n",
      "ラベル指定：\n",
      " 糖度    10.0\n",
      "酸度     0.5\n",
      "Name: リンゴ1, dtype: float64 \n",
      "\n"
     ]
    }
   ],
   "source": [
    "print(\"行列数：\\n\",df_p1.shape,\"\\n\")\n",
    "print(\"サイズ：\\n\",df_p1.size,\"\\n\")\n",
    "print(\"インデックス：\\n\",df_p1.index,\"\\n\")\n",
    "print(\"カラム名：\\n\",df_p1.columns,\"\\n\")\n",
    "print(\"値：\\n\",df_p1.values,\"\\n\")\n",
    "print(\"絶対座標指定：\\n\",df_p1.iloc[0,1],\"\\n\")\n",
    "print(\"絶対座標指定：\\n\",df_p1.iloc[0:3,[0]],\"\\n\")\n",
    "print(\"ラベル指定：\\n\",df_p1.loc[:,\"糖度\"],\"\\n\")\n",
    "print(\"ラベル指定：\\n\",df_p1.loc[\"リンゴ1\",:],\"\\n\")"
   ]
  },
  {
   "cell_type": "markdown",
   "metadata": {},
   "source": [
    "## DataFrame(Pandas)とndarray(Numpy)の関係"
   ]
  },
  {
   "cell_type": "code",
   "execution_count": 3,
   "metadata": {
    "scrolled": true
   },
   "outputs": [
    {
     "name": "stdout",
     "output_type": "stream",
     "text": [
      "インデックス\n",
      " Index(['リンゴ1', 'リンゴ2', 'リンゴ3', 'リンゴ4', 'リンゴ5', 'リンゴ6'], dtype='object') \n",
      "\n",
      "カラム\n",
      " Index(['糖度', '酸度'], dtype='object') \n",
      "\n",
      "値\n",
      " [[10.   0.5]\n",
      " [12.   0.6]\n",
      " [ 8.   1. ]\n",
      " [ 9.   0.8]\n",
      " [10.   0.7]\n",
      " [15.   1. ]] \n",
      "\n"
     ]
    }
   ],
   "source": [
    "# Dataframeをndarrayに変換\n",
    "array_p1=np.array(df_p1)\n",
    "dfkyoka=df_p1.index\n",
    "dfname=df_p1.columns\n",
    "print(\"インデックス\\n\",dfkyoka,\"\\n\")\n",
    "print(\"カラム\\n\",dfname,\"\\n\")\n",
    "print(\"値\\n\",array_p1,\"\\n\")"
   ]
  },
  {
   "cell_type": "code",
   "execution_count": 4,
   "metadata": {
    "scrolled": false
   },
   "outputs": [
    {
     "name": "stdout",
     "output_type": "stream",
     "text": [
      "        糖度   酸度\n",
      "リンゴ1  10.0  0.5\n",
      "リンゴ2  12.0  0.6\n",
      "リンゴ3   8.0  1.0\n",
      "リンゴ4   9.0  0.8\n",
      "リンゴ5  10.0  0.7\n",
      "リンゴ6  15.0  1.0\n"
     ]
    }
   ],
   "source": [
    "# ndarrayをdataframeに変換\n",
    "df_p2=pd.DataFrame(array_p1)\n",
    "df_p2.index=dfkyoka\n",
    "df_p2.columns=dfname\n",
    "print(df_p2)"
   ]
  },
  {
   "cell_type": "code",
   "execution_count": 5,
   "metadata": {
    "scrolled": true
   },
   "outputs": [
    {
     "name": "stdout",
     "output_type": "stream",
     "text": [
      "dataframeサイズ： 12\n",
      "arrayサイズ： 12 \n",
      "\n",
      "dataframeシェイプ (6, 2)\n",
      "arrayシェイプ： (6, 2) \n",
      "\n",
      "dataframe長さ 6\n",
      "array長さ： 6 \n",
      "\n",
      "dataframe座標指定： 0.8\n",
      "array座標指定： 0.8\n"
     ]
    }
   ],
   "source": [
    "print(\"dataframeサイズ：\",df_p1.size)\n",
    "print(\"arrayサイズ：\",array_p1.size,\"\\n\")\n",
    "print(\"dataframeシェイプ\",df_p1.shape)\n",
    "print(\"arrayシェイプ：\",array_p1.shape,\"\\n\")\n",
    "print(\"dataframe長さ\",len(df_p1))\n",
    "print(\"array長さ：\",len(array_p1),\"\\n\")\n",
    "print(\"dataframe座標指定：\",df_p1.iloc[3,1])\n",
    "print(\"array座標指定：\",array_p1[3,1])"
   ]
  },
  {
   "cell_type": "markdown",
   "metadata": {},
   "source": [
    "## DataFrame(Pandas)とndarray(Numpy)で行列演算"
   ]
  },
  {
   "cell_type": "code",
   "execution_count": 6,
   "metadata": {
    "scrolled": true
   },
   "outputs": [
    {
     "name": "stdout",
     "output_type": "stream",
     "text": [
      "dataframe行列\n",
      "    c1  c2  c3\n",
      "0   1   2   3\n",
      "1   4   5   6\n",
      "2   7   8   9 \n",
      "\n",
      "array行列\n",
      " [[1 2 3]\n",
      " [4 5 6]\n",
      " [7 8 9]] \n",
      "\n"
     ]
    }
   ],
   "source": [
    "#行列の定義\n",
    "df_x=pd.DataFrame({'c1':[1,4,7],'c2':[2,5,8],'c3':[3,6,9]})\n",
    "array_x=np.array([[1,2,3],[4,5,6],[7,8,9]])\n",
    "print(\"dataframe行列\\n\",df_x,\"\\n\")\n",
    "print(\"array行列\\n\",array_x,\"\\n\")"
   ]
  },
  {
   "cell_type": "code",
   "execution_count": 7,
   "metadata": {},
   "outputs": [
    {
     "name": "stdout",
     "output_type": "stream",
     "text": [
      "最大値（行ごと）は\n",
      " 0    3\n",
      "1    6\n",
      "2    9\n",
      "dtype: int64 \n",
      "\n",
      "最大値（列ごと）は\n",
      " c1    7\n",
      "c2    8\n",
      "c3    9\n",
      "dtype: int64 \n",
      "\n",
      "最大値のインデックス（列ごと）:\n",
      " c1    2\n",
      "c2    2\n",
      "c3    2\n",
      "dtype: int64 \n",
      "\n",
      "最小値（行ごと）は\n",
      " 0    1\n",
      "1    4\n",
      "2    7\n",
      "dtype: int64 \n",
      "\n",
      "平均値（行ごと）は\n",
      " 0    2.0\n",
      "1    5.0\n",
      "2    8.0\n",
      "dtype: float64 \n",
      "\n",
      "分散（行ごと）は\n",
      " 0    1.0\n",
      "1    1.0\n",
      "2    1.0\n",
      "dtype: float64 \n",
      "\n",
      "標準偏差（行ごと）は\n",
      " 0    1.0\n",
      "1    1.0\n",
      "2    1.0\n",
      "dtype: float64 \n",
      "\n",
      "要素ごとのルートは\n",
      "          c1        c2        c3\n",
      "0  1.000000  1.414214  1.732051\n",
      "1  2.000000  2.236068  2.449490\n",
      "2  2.645751  2.828427  3.000000 \n",
      "\n",
      "要素ごとのべき乗は\n",
      "    c1  c2  c3\n",
      "0   1   4   9\n",
      "1  16  25  36\n",
      "2  49  64  81 \n",
      "\n",
      "要素ごとの掛け算は\n",
      "    c1  c2  c3\n",
      "0   1   4   9\n",
      "1  16  25  36\n",
      "2  49  64  81 \n",
      "\n",
      "要素ごとの割り算は\n",
      "     c1   c2   c3\n",
      "0  1.0  1.0  1.0\n",
      "1  1.0  1.0  1.0\n",
      "2  1.0  1.0  1.0 \n",
      "\n",
      "要素ごとの足し算は\n",
      "    c1  c2  c3\n",
      "0   2   4   6\n",
      "1   8  10  12\n",
      "2  14  16  18 \n",
      "\n",
      "行列の掛け算は\n",
      "     0    1    2\n",
      "0  14   32   50\n",
      "1  32   77  122\n",
      "2  50  122  194 \n",
      "\n"
     ]
    }
   ],
   "source": [
    "print('最大値（行ごと）は\\n', df_x.max(axis=1), \"\\n\")\n",
    "print('最大値（列ごと）は\\n', df_x.max(axis=0), \"\\n\")\n",
    "print('最大値のインデックス（列ごと）:\\n', df_x.idxmax(axis=0), \"\\n\")\n",
    "print('最小値（行ごと）は\\n', df_x.min(axis=1), \"\\n\")\n",
    "print('平均値（行ごと）は\\n', df_x.mean(axis=1), \"\\n\")\n",
    "print('分散（行ごと）は\\n', df_x.var(axis=1), \"\\n\")\n",
    "print('標準偏差（行ごと）は\\n', df_x.std(axis=1), \"\\n\")\n",
    "print('要素ごとのルートは\\n', np.sqrt(df_x), \"\\n\")\n",
    "print('要素ごとのべき乗は\\n', df_x ** 2, \"\\n\")\n",
    "print('要素ごとの掛け算は\\n', df_x * df_x, \"\\n\")\n",
    "print('要素ごとの割り算は\\n', df_x / df_x, \"\\n\")\n",
    "print('要素ごとの足し算は\\n', df_x + df_x, \"\\n\")\n",
    "print('行列の掛け算は\\n', df_x.dot(df_x.T), \"\\n\")"
   ]
  },
  {
   "cell_type": "code",
   "execution_count": 8,
   "metadata": {},
   "outputs": [
    {
     "name": "stdout",
     "output_type": "stream",
     "text": [
      "最大値（行ごと）は\n",
      " [3 6 9] \n",
      "\n",
      "最大値（列ごと）は\n",
      " [7 8 9] \n",
      "\n",
      "最大値のインデックス（列ごと）:\n",
      " [2 2 2] \n",
      "\n",
      "最小値（行ごと）は\n",
      " [1 4 7] \n",
      "\n",
      "平均値（行ごと）は\n",
      " [2. 5. 8.] \n",
      "\n",
      "分散（行ごと）は\n",
      " [1. 1. 1.] \n",
      "\n",
      "標準偏差（行ごと）は\n",
      " [1. 1. 1.] \n",
      "\n",
      "要素ごとのルートは\n",
      " [[1.         1.41421356 1.73205081]\n",
      " [2.         2.23606798 2.44948974]\n",
      " [2.64575131 2.82842712 3.        ]] \n",
      "\n",
      "要素ごとのべき乗は\n",
      " [[ 1  4  9]\n",
      " [16 25 36]\n",
      " [49 64 81]] \n",
      "\n",
      "要素ごとのべき乗は\n",
      " [[ 1  4  9]\n",
      " [16 25 36]\n",
      " [49 64 81]] \n",
      "\n",
      "要素ごとの掛け算は\n",
      " [[ 1  4  9]\n",
      " [16 25 36]\n",
      " [49 64 81]] \n",
      "\n",
      "要素ごとの割り算は\n",
      " [[1. 1. 1.]\n",
      " [1. 1. 1.]\n",
      " [1. 1. 1.]] \n",
      "\n",
      "要素ごとの足し算は\n",
      " [[ 2  4  6]\n",
      " [ 8 10 12]\n",
      " [14 16 18]] \n",
      "\n",
      "行列の掛け算は\n",
      " [[ 14  32  50]\n",
      " [ 32  77 122]\n",
      " [ 50 122 194]] \n",
      "\n"
     ]
    }
   ],
   "source": [
    "#arrayの各種演算\n",
    "print('最大値（行ごと）は\\n',np.max(array_x,axis=1),\"\\n\")\n",
    "print('最大値（列ごと）は\\n',np.max(array_x,axis=0),\"\\n\")\n",
    "print('最大値のインデックス（列ごと）:\\n', np.argmax(array_x,axis=0),\"\\n\")\n",
    "print('最小値（行ごと）は\\n',np.min(array_x,axis=1),\"\\n\")\n",
    "print('平均値（行ごと）は\\n',np.mean(array_x,axis=1),\"\\n\")\n",
    "print('分散（行ごと）は\\n',np.var(array_x,axis=1,ddof=1),\"\\n\")\n",
    "print('標準偏差（行ごと）は\\n',np.std(array_x,axis=1,ddof=1),\"\\n\")\n",
    "print('要素ごとのルートは\\n',np.sqrt(array_x),\"\\n\")\n",
    "print('要素ごとのべき乗は\\n',array_x**2,\"\\n\")\n",
    "print('要素ごとのべき乗は\\n',np.power(array_x,2),\"\\n\")\n",
    "print('要素ごとの掛け算は\\n',array_x*array_x,\"\\n\")\n",
    "print('要素ごとの割り算は\\n',array_x/array_x,\"\\n\")\n",
    "print('要素ごとの足し算は\\n',array_x+array_x,\"\\n\")\n",
    "print('行列の掛け算は\\n',array_x.dot(array_x.T),\"\\n\")"
   ]
  }
 ],
 "metadata": {
  "kernelspec": {
   "display_name": "Python 3 (ipykernel)",
   "language": "python",
   "name": "python3"
  },
  "language_info": {
   "codemirror_mode": {
    "name": "ipython",
    "version": 3
   },
   "file_extension": ".py",
   "mimetype": "text/x-python",
   "name": "python",
   "nbconvert_exporter": "python",
   "pygments_lexer": "ipython3",
   "version": "3.11.7"
  }
 },
 "nbformat": 4,
 "nbformat_minor": 2
}
